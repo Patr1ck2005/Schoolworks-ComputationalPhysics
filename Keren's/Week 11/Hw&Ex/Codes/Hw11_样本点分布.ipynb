{
 "cells": [
  {
   "cell_type": "code",
   "id": "initial_id",
   "metadata": {
    "collapsed": true,
    "ExecuteTime": {
     "end_time": "2024-07-03T06:13:31.805912Z",
     "start_time": "2024-07-03T06:13:31.801564Z"
    }
   },
   "source": [
    "import random\n",
    "import numpy as np\n",
    "import matplotlib.pyplot as plt\n",
    "a = 1 #地板宽度\n",
    "b = 0.5 #针宽度\n",
    "n = 1000 #投针次数\n",
    "k = 0\n",
    "hnit = 0"
   ],
   "execution_count": 2,
   "outputs": []
  },
  {
   "metadata": {
    "ExecuteTime": {
     "end_time": "2024-07-03T06:14:35.952134Z",
     "start_time": "2024-07-03T06:14:28.395047Z"
    }
   },
   "cell_type": "code",
   "source": [
    "for j in range(n):\n",
    "    x = random.random()*np.pi\n",
    "    y = random.random()*(a/2)\n",
    "    distance = (b/2)*np.sin(x)\n",
    "    if y<=distance:\n",
    "        hnit = hnit+1\n",
    "        if hnit==1:\n",
    "            plt.scatter(x,y,s=10,c='#77AC30',label='Crossed')\n",
    "        else:plt.scatter(x,y,s=10,c='#77AC30')\n",
    "    else:\n",
    "        k = k+1\n",
    "        if k==1:\n",
    "            plt.scatter(x,y,s=10,c='b',label='UnCrossed')\n",
    "        else:plt.scatter(x,y,s=10,c='b')\n",
    "p = hnit/n\n",
    "pi_est = 2*b/(a*p)\n",
    "error=(np.abs(np.pi-pi_est)/np.pi)\n",
    "print('N=', n, 'Estimated Pi=', pi_est, 'Relative Error', error)\n",
    "\n",
    "X=np.arange(0,np.pi,0.01)\n",
    "Y=0.5*b*np.sin(X)\n",
    "plt.plot(X,Y,'r',linestyle='--',linewidth=3,label='Boundary')\n",
    "plt.xlim(0,np.pi)\n",
    "plt.ylim(0,0.5)\n",
    "plt.xlabel('theta')\n",
    "plt.ylabel('x')\n",
    "plt.title('Distribution of Needle Point')\n",
    "plt.legend(loc=0,ncol=1)\n",
    "plt.legend(framealpha=1)\n",
    "plt.legend(loc='upper right')\n",
    "#plt.legend(loc = (1.1,0.5))\n",
    "plt.savefig(r'D:\\FileArchiving\\大二下\\计算物理\\瞎写的python\\Week11\\文档\\样本点示意图.eps')\n",
    "plt.show()"
   ],
   "id": "c81183e35333057c",
   "execution_count": 3,
   "outputs": []
  },
  {
   "metadata": {
    "ExecuteTime": {
     "end_time": "2024-07-03T06:09:24.752216Z",
     "start_time": "2024-07-03T06:09:24.502204Z"
    }
   },
   "cell_type": "code",
   "source": "",
   "id": "371e28e0da4ec1a4",
   "execution_count": 4,
   "outputs": []
  }
 ],
 "metadata": {
  "kernelspec": {
   "display_name": "Python 3",
   "language": "python",
   "name": "python3"
  },
  "language_info": {
   "codemirror_mode": {
    "name": "ipython",
    "version": 2
   },
   "file_extension": ".py",
   "mimetype": "text/x-python",
   "name": "python",
   "nbconvert_exporter": "python",
   "pygments_lexer": "ipython2",
   "version": "2.7.6"
  }
 },
 "nbformat": 4,
 "nbformat_minor": 5
}
