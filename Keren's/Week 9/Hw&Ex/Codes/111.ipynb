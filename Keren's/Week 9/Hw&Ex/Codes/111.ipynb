{
 "cells": [
  {
   "cell_type": "code",
   "id": "initial_id",
   "metadata": {
    "ExecuteTime": {
     "end_time": "2024-05-09T11:36:17.161144Z",
     "start_time": "2024-05-09T11:36:16.730753Z"
    }
   },
   "source": [
    "import numpy as np\n",
    "import matplotlib.pyplot as plt"
   ],
   "execution_count": 4,
   "outputs": []
  },
  {
   "metadata": {
    "ExecuteTime": {
     "end_time": "2024-05-09T11:36:17.965344Z",
     "start_time": "2024-05-09T11:36:17.962549Z"
    }
   },
   "cell_type": "code",
   "source": [
    "a = np.linspace(0, 10, 100)\n",
    "b = np.linspace(1, 200, 100)"
   ],
   "id": "6f441ce1999646ec",
   "execution_count": 5,
   "outputs": []
  },
  {
   "metadata": {
    "ExecuteTime": {
     "end_time": "2024-05-09T11:36:19.133534Z",
     "start_time": "2024-05-09T11:36:19.016817Z"
    }
   },
   "cell_type": "code",
   "source": [
    "plt.plot(a, b, color='green')\n",
    "plt.show()"
   ],
   "id": "a7e2f3915276788a",
   "execution_count": 6,
   "outputs": []
  },
  {
   "metadata": {},
   "cell_type": "markdown",
   "source": "$$\\alpha$$",
   "id": "430c5e761570c912"
  },
  {
   "metadata": {},
   "cell_type": "markdown",
   "source": "质能方程：$$E=mc^2$$",
   "id": "8e10078e3a34ac90"
  },
  {
   "metadata": {
    "ExecuteTime": {
     "end_time": "2024-05-09T11:36:23.908790Z",
     "start_time": "2024-05-09T11:36:23.905476Z"
    }
   },
   "cell_type": "code",
   "source": "print('我没意见！')",
   "id": "8ef9789bafc71fe5",
   "execution_count": 7,
   "outputs": []
  },
  {
   "metadata": {},
   "cell_type": "code",
   "execution_count": null,
   "source": "",
   "id": "aaccdfbf8bde88cb",
   "outputs": []
  }
 ],
 "metadata": {
  "kernelspec": {
   "display_name": "Python 3 (ipykernel)",
   "language": "python",
   "name": "python3"
  },
  "language_info": {
   "codemirror_mode": {
    "name": "ipython",
    "version": 3
   },
   "file_extension": ".py",
   "mimetype": "text/x-python",
   "name": "python",
   "nbconvert_exporter": "python",
   "pygments_lexer": "ipython3",
   "version": "3.11.7"
  }
 },
 "nbformat": 4,
 "nbformat_minor": 5
}
